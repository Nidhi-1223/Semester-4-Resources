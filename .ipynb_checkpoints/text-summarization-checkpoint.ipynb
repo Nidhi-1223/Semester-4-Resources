{
 "cells": [
  {
   "cell_type": "code",
   "execution_count": null,
   "id": "661f5efa",
   "metadata": {},
   "outputs": [],
   "source": [
    "text = '''\n",
    "Twitter’s new boss and one of the social network’s liveliest denizens will be paying even more attention to each other.\n",
    "\n",
    "Elon Musk, the billionaire Tesla and SpaceX founder, has accumulated a 9.2% stake in Twitter, making him the company’s largest shareholder, according to a new SEC filing. He is already one of the most followed people on the app with over 80 million followers—rivaling Donald Trump’s reach before Twitter expelled the former president—and has been critical of the company, potentially setting up a collision between him and Parag Agrawal, who succeded Jack Dorsey as chief executive in November.\n",
    "\n",
    "A week ago, Musk released a poll on his Twitter account that eventually received over 2 million votes, questioning whether the company unfairly censors speech, a longstanding conservative complaint.\n",
    "\n",
    "\n",
    "For now, Twitter’s investors are enjoying Musk’s arrival. The stock has risen by more 25% in pre-market trading Monday to $49.10 a share.\n",
    "\n",
    "Agrawal assumed the top job at Twitter by promising to follow through on ambitious revenue and user-growth goals set by Dorsey in his final years. The company hopes to reach 315 million activer users and $7.5 billion in revenue by the end of next year, substantially higher than its current figures. Agrawal has told Wall Street he intends to push Twitter to make faster decisions and launch more products, two intiatives Dorsey also sought to foster.\n",
    "\n",
    "Some of what Dorsey did before his departure came after another high-profile investor appeared. In March 2020, Elliot Management, one of the best-known activist investor firms, bought a stake in Twitter and made a number of demands, hoping to shake up the company. One of those: Dorsey had to leave. Elliot disliked that Dorsey had two jobs, one running Twitter and one running Block, the payments company formerly known as Square.\n",
    "\n",
    "\n",
    "\n",
    "'''"
   ]
  },
  {
   "cell_type": "code",
   "execution_count": null,
   "id": "7dbb2ad7",
   "metadata": {},
   "outputs": [],
   "source": [
    "import spacy\n",
    "from spacy.lang.en.stop_words import STOP_WORDS\n",
    "from string import punctuation"
   ]
  },
  {
   "cell_type": "code",
   "execution_count": null,
   "id": "750684d8",
   "metadata": {},
   "outputs": [],
   "source": [
    "stopwords = list(STOP_WORDS)\n"
   ]
  },
  {
   "cell_type": "code",
   "execution_count": null,
   "id": "3168c456",
   "metadata": {},
   "outputs": [],
   "source": [
    "nlp = spacy.load('en_core_web_sm')"
   ]
  },
  {
   "cell_type": "code",
   "execution_count": null,
   "id": "04cc974c",
   "metadata": {},
   "outputs": [],
   "source": [
    "doc = nlp(text)"
   ]
  },
  {
   "cell_type": "code",
   "execution_count": null,
   "id": "c53196a8",
   "metadata": {},
   "outputs": [],
   "source": [
    "tokens = [token.text for token in doc]\n",
    "print(tokens)"
   ]
  },
  {
   "cell_type": "code",
   "execution_count": null,
   "id": "91f6e4f0",
   "metadata": {},
   "outputs": [],
   "source": [
    "punctuation = punctuation + '\\n'\n",
    "punctuation\n"
   ]
  },
  {
   "cell_type": "code",
   "execution_count": null,
   "id": "6abf4c22",
   "metadata": {},
   "outputs": [],
   "source": [
    "word_frequencies = {}\n",
    "for word in doc:\n",
    "    if word.text.lower() not in stopwords:\n",
    "        if word.text.lower() not in punctuation:\n",
    "            if word.text not in word_frequencies.keys():\n",
    "                word_frequencies[word.text] = 1\n",
    "            else:\n",
    "                word_frequencies[word.text] += 1\n",
    "                \n",
    "            "
   ]
  },
  {
   "cell_type": "code",
   "execution_count": null,
   "id": "c6ebf39c",
   "metadata": {},
   "outputs": [],
   "source": [
    "word_frequencies"
   ]
  },
  {
   "cell_type": "code",
   "execution_count": null,
   "id": "09334f4e",
   "metadata": {},
   "outputs": [],
   "source": [
    "max_frequency = max(word_frequencies.values())\n"
   ]
  },
  {
   "cell_type": "code",
   "execution_count": null,
   "id": "fbfee292",
   "metadata": {},
   "outputs": [],
   "source": [
    "max_frequency\n"
   ]
  },
  {
   "cell_type": "code",
   "execution_count": null,
   "id": "8115706e",
   "metadata": {},
   "outputs": [],
   "source": [
    "for word in word_frequencies.keys():\n",
    "    word_frequencies[word] = word_frequencies[word]/max(word_frequencies.values())\n",
    "    "
   ]
  },
  {
   "cell_type": "code",
   "execution_count": null,
   "id": "42445516",
   "metadata": {},
   "outputs": [],
   "source": [
    "print(word_frequencies)\n"
   ]
  },
  {
   "cell_type": "code",
   "execution_count": null,
   "id": "2602dc99",
   "metadata": {},
   "outputs": [],
   "source": [
    "sentence_tokens = [sent for sent in doc.sents]\n",
    "print(sentence_tokens)"
   ]
  },
  {
   "cell_type": "code",
   "execution_count": null,
   "id": "6e07de6b",
   "metadata": {},
   "outputs": [],
   "source": [
    "sentence_scores = {}\n",
    "for sent in sentence_tokens:\n",
    "    for word in sent:\n",
    "        if word.text.lower() in word_frequencies.keys():\n",
    "            if sent not in sentence_scores.keys():\n",
    "                sentence_scores[sent] = word_frequencies[word.text.lower()]\n",
    "            else:\n",
    "                sentence_scores[sent] += word_frequencies[word.text.lower()]"
   ]
  },
  {
   "cell_type": "code",
   "execution_count": null,
   "id": "4394feed",
   "metadata": {},
   "outputs": [],
   "source": [
    "sentence_scores"
   ]
  },
  {
   "cell_type": "code",
   "execution_count": null,
   "id": "5c5baf9d",
   "metadata": {},
   "outputs": [],
   "source": [
    "from heapq import nlargest"
   ]
  },
  {
   "cell_type": "code",
   "execution_count": null,
   "id": "56e2c3cd",
   "metadata": {},
   "outputs": [],
   "source": [
    "select_length = int(len(sentence_tokens) * 0.3)\n",
    "select_length"
   ]
  },
  {
   "cell_type": "code",
   "execution_count": null,
   "id": "0088fdda",
   "metadata": {},
   "outputs": [],
   "source": [
    "summary = nlargest(select_length, sentence_scores, key = sentence_scores.get)"
   ]
  },
  {
   "cell_type": "code",
   "execution_count": null,
   "id": "ece851b3",
   "metadata": {},
   "outputs": [],
   "source": [
    "summary\n"
   ]
  },
  {
   "cell_type": "code",
   "execution_count": null,
   "id": "4838d9e8",
   "metadata": {},
   "outputs": [],
   "source": [
    "final_summary = [word.text for word in summary]"
   ]
  },
  {
   "cell_type": "code",
   "execution_count": null,
   "id": "93ac00ae",
   "metadata": {},
   "outputs": [],
   "source": [
    "final_summary"
   ]
  },
  {
   "cell_type": "code",
   "execution_count": null,
   "id": "c6666229",
   "metadata": {},
   "outputs": [],
   "source": [
    "summary = ' '.join(final_summary)"
   ]
  },
  {
   "cell_type": "code",
   "execution_count": null,
   "id": "01f31ed4",
   "metadata": {},
   "outputs": [],
   "source": [
    "print(text)"
   ]
  },
  {
   "cell_type": "code",
   "execution_count": null,
   "id": "f48987c1",
   "metadata": {
    "scrolled": true
   },
   "outputs": [],
   "source": [
    "print(summary)"
   ]
  },
  {
   "cell_type": "code",
   "execution_count": null,
   "id": "daf7788a",
   "metadata": {},
   "outputs": [],
   "source": [
    "len(text)"
   ]
  },
  {
   "cell_type": "code",
   "execution_count": null,
   "id": "458f786f",
   "metadata": {},
   "outputs": [],
   "source": [
    "len(summary)"
   ]
  },
  {
   "cell_type": "code",
   "execution_count": null,
   "id": "9637a752",
   "metadata": {},
   "outputs": [],
   "source": [
    "pwd\n"
   ]
  }
 ],
 "metadata": {
  "kernelspec": {
   "display_name": "Python 3 (ipykernel)",
   "language": "python",
   "name": "python3"
  },
  "language_info": {
   "codemirror_mode": {
    "name": "ipython",
    "version": 3
   },
   "file_extension": ".py",
   "mimetype": "text/x-python",
   "name": "python",
   "nbconvert_exporter": "python",
   "pygments_lexer": "ipython3",
   "version": "3.8.10"
  }
 },
 "nbformat": 4,
 "nbformat_minor": 5
}
